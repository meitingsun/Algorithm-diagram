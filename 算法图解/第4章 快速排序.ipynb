{
 "cells": [
  {
   "cell_type": "markdown",
   "metadata": {},
   "source": [
    "## 4.1  分而治之 divide and conquer, D&C\n",
    "一种著名的递归式问题解决方法"
   ]
  },
  {
   "cell_type": "markdown",
   "metadata": {},
   "source": [
    "使用D&C解决问题的过程包括两个步骤\n",
    "\n",
    "（1）找出基线条件，这种条件必须尽可能简单\n",
    "\n",
    "（2）不断将问题分解（或者说缩小规模），直到符合基线条件（即找出递归条件）"
   ]
  },
  {
   "cell_type": "markdown",
   "metadata": {},
   "source": [
    "### 欧几里得算法：适用于这小块地的最大方块，也是适用于整块地的最大方块"
   ]
  },
  {
   "cell_type": "markdown",
   "metadata": {},
   "source": [
    "##### 数组相加方法1——循环\n",
    "给定一个数字数组，将其中数字相加"
   ]
  },
  {
   "cell_type": "code",
   "execution_count": 2,
   "metadata": {},
   "outputs": [
    {
     "name": "stdout",
     "output_type": "stream",
     "text": [
      "15\n"
     ]
    }
   ],
   "source": [
    "def sum(arr):\n",
    "    total=0\n",
    "    for x in arr:\n",
    "        total +=x\n",
    "    return total\n",
    "print(sum([1,2,3,4,5]))"
   ]
  },
  {
   "cell_type": "markdown",
   "metadata": {},
   "source": [
    "##### 数组相加方法2——递归函数"
   ]
  },
  {
   "cell_type": "markdown",
   "metadata": {},
   "source": [
    "递归函数思路：\n",
    "\n",
    "第一步：找出基线条件。最简单的数组是什么样的呢？\n",
    "\n",
    "基线条件=1.[]:空值不包含任何元素（总和为0）；2.[1]:只包含一个元素（总和为1）\n",
    "        \n",
    "第二步：每次递归调用都必须离空数值更近一步。如何缩小问题的规模呢？\n",
    "\n",
    "sum（[2,4,6]）=12  VS  2+sum([4,6])=12\n",
    "\n",
    "第二个版本中，给函数sum传递的数组更短。及缩小了问题的规模"
   ]
  },
  {
   "cell_type": "markdown",
   "metadata": {},
   "source": [
    "#### 函数sum的工作原理：\n",
    "\n",
    "1、接受一个列表\n",
    "\n",
    "2、如果列表为空，返回0\n",
    "\n",
    "3、否则，计算列表中除第一个数字外的其他数字的总和，将其与第一个数字相加，再返回结果。"
   ]
  },
  {
   "cell_type": "code",
   "execution_count": 5,
   "metadata": {},
   "outputs": [
    {
     "data": {
      "text/plain": [
       "5050"
      ]
     },
     "execution_count": 5,
     "metadata": {},
     "output_type": "execute_result"
    }
   ],
   "source": [
    "def sum(arr):\n",
    "    if len(arr): # 基线条件\n",
    "        return arr[0]+sum(arr[1:])\n",
    "    else:\n",
    "        return 0\n",
    "    \n",
    "sum([i for i in range(1,101)])"
   ]
  },
  {
   "cell_type": "markdown",
   "metadata": {},
   "source": [
    "## 4.2  快速排序"
   ]
  },
  {
   "cell_type": "markdown",
   "metadata": {},
   "source": [
    "步骤：\n",
    "\n",
    "（1）选择基准值\n",
    "\n",
    "（2）将数组分成两个子数组：小于基准值的元素和大于基准值的元素\n",
    "\n",
    "（3）对这两个子数组进行快速排序"
   ]
  },
  {
   "cell_type": "code",
   "execution_count": 9,
   "metadata": {},
   "outputs": [
    {
     "name": "stdout",
     "output_type": "stream",
     "text": [
      "[1, 2, 3, 5, 10, 15, 17]\n"
     ]
    }
   ],
   "source": [
    "def quicksort(arr):\n",
    "    if len(arr)<2:\n",
    "        return arr  #基准条件：为空或只包含一个元素的数组是有序的\n",
    "    else:\n",
    "        pivot=arr[0] #递归条件 ，这里可以随机取\n",
    "        less=[i for i in arr[1:] if i<=pivot] # 由所有小于基准值得元素组成的子数组\n",
    "        greater=[i for i in arr[1:] if i > pivot] #由所有大于基准值的元素组成的子数组\n",
    "        return quicksort(less)+[pivot]+quicksort(greater) #对两个子数组递归的调用快速排序\n",
    "print(quicksort([10,1,2,15,17,3,5]))"
   ]
  },
  {
   "cell_type": "markdown",
   "metadata": {},
   "source": [
    "## 4.3 运行时间\n",
    "快速排序的性能高度依赖于你选择的基准值。"
   ]
  },
  {
   "cell_type": "markdown",
   "metadata": {},
   "source": [
    "平均情况和最糟情况\n",
    "最糟情况：假设你总是将第一个元素用作基准值，且要处理的数组是有序最快速排序的性能高度依赖于你选择的基准值。假设你总是将第一个元素用作基准值，且要处理的数组是有序的。栈长：O（n）\n",
    "\n",
    "最佳情况：总是将中间的元素用作基准值。栈长：O（log（n））。\n",
    "\n",
    "每层需要的时间为O（n）。因此整个算法需要的时间为O(n)*O(logn)=O(nlogn)\n",
    "\n",
    "\n"
   ]
  }
 ],
 "metadata": {
  "kernelspec": {
   "display_name": "Python 3",
   "language": "python",
   "name": "python3"
  },
  "language_info": {
   "codemirror_mode": {
    "name": "ipython",
    "version": 3
   },
   "file_extension": ".py",
   "mimetype": "text/x-python",
   "name": "python",
   "nbconvert_exporter": "python",
   "pygments_lexer": "ipython3",
   "version": "3.6.4"
  }
 },
 "nbformat": 4,
 "nbformat_minor": 2
}
