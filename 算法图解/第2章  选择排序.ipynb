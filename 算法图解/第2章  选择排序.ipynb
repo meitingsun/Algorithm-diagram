{
 "cells": [
  {
   "cell_type": "markdown",
   "metadata": {},
   "source": [
    "## 2.1  数组和链表"
   ]
  },
  {
   "cell_type": "markdown",
   "metadata": {},
   "source": [
    "内存的工作原理：将数据存储到内存时，请求计算机提供存储空间，计算机给一个存储地址。需要存储多项数据时，有两种基本方式——数组和链表"
   ]
  },
  {
   "cell_type": "markdown",
   "metadata": {},
   "source": [
    "#### 2.1.1 原理："
   ]
  },
  {
   "cell_type": "markdown",
   "metadata": {},
   "source": [
    "数组是将元素在内存中连续存放，由于每个元素占用内存相同，可以通过下标迅速访问数组中任何元素。但是如果要在数组中增加一个元素，需要移动大量元素，在内存中空出一个元素的空间，然后将要增加的元素放在其中。同样的道理，如果想删除一个元素，同样需要移动大量元素去填掉被移动的元素。如果应用需要快速访问数据，很少或不插入和删除元素，就应该用数组。\n",
    "\n",
    "链表中的元素在内存中不是顺序存储的，而是通过存在元素中的指针联系到一起。比如：上一个元素有个指针指到下一个元素，以此类推，直到最后一个元素。如果要访问链表中一个元素，需要从第一个元素开始，一直找到需要的元素位置。但是增加和删除一个元素对于链表数据结构就非常简单了，只要修改元素中的指针就可以了。如果应用需要经常插入和删除元素你就需要用链表数据结构了。"
   ]
  },
  {
   "cell_type": "markdown",
   "metadata": {},
   "source": [
    "#### 2.1.2  优缺点："
   ]
  },
  {
   "cell_type": "markdown",
   "metadata": {},
   "source": [
    "数组\n",
    "\n",
    "优点：因为数据是连续存储的，内存地址连续，所以可快速查找数据。\n",
    "\n",
    "缺点：运行时，空间的的大小是无法随着需求进行增加和减少而改变的。当数据量较大时，可能会出现越界的情况，数据量较少时，可能会浪费掉内存空间。\n",
    "\n",
    "链表\n",
    "\n",
    "优点：可根据需求来动态申请或删除内存空间，对于数据增加、删除、插入比数据灵活。链表中数据在内存中可以在任意的位置，通过应用来关联数据（通过存在元素的指针来联系）\n",
    "\n",
    "缺点：无法进行快速查找数据"
   ]
  },
  {
   "cell_type": "markdown",
   "metadata": {},
   "source": [
    "#### 2.1.3  运行时间"
   ]
  },
  {
   "cell_type": "markdown",
   "metadata": {},
   "source": [
    " 数组：读取 O(1)；插入O(n)；删除：O(n)\n",
    "\n",
    "链表：读取 O(n)；插入O(1)；删除：O(1)\n",
    "\n",
    "需要指出的是，仅当能够立即访问要删除的元素时，删除操作的运行时间才为O（1）。通常我们都记录了链表的第一个元素和最后一个元素，因此删除这些元素时运行时间为O（1）"
   ]
  },
  {
   "cell_type": "markdown",
   "metadata": {},
   "source": [
    "## 2.2  选择排序"
   ]
  },
  {
   "cell_type": "markdown",
   "metadata": {},
   "source": [
    "##### 将数组元素按从小到大的顺序排列"
   ]
  },
  {
   "cell_type": "code",
   "execution_count": 29,
   "metadata": {},
   "outputs": [
    {
     "name": "stdout",
     "output_type": "stream",
     "text": [
      "[1, 2, 4, 4, 5, 8]\n"
     ]
    }
   ],
   "source": [
    "# -*- coding: utf-8 -*-\n",
    "# 查找数组中最小元素的函数\n",
    "def findSmall(arr):\n",
    "    small = arr[0]   #存储最小的值\n",
    "    small_index = 0   # 存储最小元素的索引\n",
    "    for i in range(1,len(arr)):\n",
    "        if arr[i]<small:\n",
    "            small = arr[i]\n",
    "            small_index = i\n",
    "    return (small_index,small)\n",
    "\n",
    "# 选择排序算法\n",
    "def selectionSelect(arr):#选择排序,升序\n",
    "    newArr = []\n",
    "    for i in range(len(arr)):\n",
    "        small_index = findSmall(arr)[0]  # 找出数组中最小元素，并将其加入到新数组中\n",
    "        newArr.append(arr.pop(small_index))\n",
    "    return newArr\n",
    "\n",
    "list=[1,4,5,8,4,2]  \n",
    "print(selectionSelect(list))"
   ]
  },
  {
   "cell_type": "code",
   "execution_count": 38,
   "metadata": {},
   "outputs": [
    {
     "name": "stdout",
     "output_type": "stream",
     "text": [
      "[2, 3, 4, 5, 6]\n"
     ]
    }
   ],
   "source": [
    "def findSmallest(arr):\n",
    "    smallest = arr[0]\n",
    "    smallest_index = 0\n",
    "    for i in range(1, len(arr)):\n",
    "        if arr[i] < smallest:\n",
    "            smallest = arr[i]\n",
    "            smallest_index = i\n",
    "    return smallest_index\n",
    "\n",
    "def selectionSort(arr):\n",
    "    newArr = []\n",
    "    for i in range(len(arr)):\n",
    "        smallest = findSmallest(arr)\n",
    "        newArr.append(arr.pop(smallest))\n",
    "    return newArr\n",
    "\n",
    "print (selectionSort([4,3,5,2,6]))"
   ]
  },
  {
   "cell_type": "markdown",
   "metadata": {},
   "source": [
    "append():用于将传入的对象附加（添加）到现有列表中\n",
    "    \n",
    "pop（）：用于移除列表中的一个元素（默认最后一个元素），并且返回该元素的值"
   ]
  },
  {
   "cell_type": "code",
   "execution_count": 30,
   "metadata": {},
   "outputs": [],
   "source": [
    "def selection_sort(list):\n",
    "    for i in range(0,len(list)):#第一趟循环排出有序数列\n",
    "        min = i #设定暂时最小值为无序区间第一个元素\n",
    "        for j in range(i+1,len(list)):#第二趟排序让min去和无序数列的数作比较找出真正最小值\n",
    "            if list[min] > list[j]:\n",
    "                min = j\n",
    "        list[min],list[i] = list[i],list[min]\n",
    "    return list\n",
    "if __name__ == '__main__':\n",
    "    list = [45,32,67,8,2,43]"
   ]
  },
  {
   "cell_type": "code",
   "execution_count": 31,
   "metadata": {},
   "outputs": [
    {
     "name": "stdout",
     "output_type": "stream",
     "text": [
      "[2, 8, 32, 43, 45, 67]\n"
     ]
    }
   ],
   "source": [
    "print(selection_sort(list))"
   ]
  }
 ],
 "metadata": {
  "kernelspec": {
   "display_name": "Python 3",
   "language": "python",
   "name": "python3"
  },
  "language_info": {
   "codemirror_mode": {
    "name": "ipython",
    "version": 3
   },
   "file_extension": ".py",
   "mimetype": "text/x-python",
   "name": "python",
   "nbconvert_exporter": "python",
   "pygments_lexer": "ipython3",
   "version": "3.6.4"
  }
 },
 "nbformat": 4,
 "nbformat_minor": 2
}
