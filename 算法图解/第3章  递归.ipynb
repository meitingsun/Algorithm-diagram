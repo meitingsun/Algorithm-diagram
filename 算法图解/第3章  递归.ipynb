{
 "cells": [
  {
   "cell_type": "markdown",
   "metadata": {},
   "source": [
    "编写递归函数时，必须告诉它何时停止递归。因此，每个递归函数都有两部分；基线条件（base case和递归条件（recursive case）。\n",
    "\n",
    "递归条件指的是函数调用自己，而基线条件则指的是函数不再调用自己，从而避免形成无限循环"
   ]
  },
  {
   "cell_type": "markdown",
   "metadata": {},
   "source": [
    "### 3.1  基线条件和递归条件"
   ]
  },
  {
   "cell_type": "code",
   "execution_count": 2,
   "metadata": {},
   "outputs": [
    {
     "name": "stdout",
     "output_type": "stream",
     "text": [
      "5\n",
      "4\n",
      "3\n",
      "2\n",
      "1\n",
      "0\n"
     ]
    }
   ],
   "source": [
    "def countdown(i):\n",
    "    print(i)\n",
    "    if i<=0:  # 基线条件\n",
    "        return\n",
    "    else:  # 递归条件\n",
    "        countdown(i-1)  \n",
    "    \n",
    "countdown(5)"
   ]
  },
  {
   "cell_type": "markdown",
   "metadata": {},
   "source": [
    "### 3.2  递归写法"
   ]
  },
  {
   "cell_type": "code",
   "execution_count": null,
   "metadata": {},
   "outputs": [],
   "source": [
    "def lookforkey(box):\n",
    "    for item in box:\n",
    "        if item.isBox():\n",
    "            lookforkey(item)\n",
    "        elif: item.isKey():\n",
    "                print('Found the key at',item)"
   ]
  },
  {
   "cell_type": "markdown",
   "metadata": {},
   "source": [
    "### 3.3  栈 stack"
   ]
  },
  {
   "cell_type": "markdown",
   "metadata": {},
   "source": [
    "栈是一种运算受限的线性表。其限制是仅允许表的一端进行插入和删除运算（称为栈顶），另一端称为栈底。向一个栈插入新元素又称作进栈、入栈或压栈，它是把新元素放到栈顶元素的上面，使之成为新的栈顶元素；从一个栈删除元素又称为出栈，它是把栈顶元素删除掉，使其相邻的元素成为新的栈顶元素"
   ]
  },
  {
   "cell_type": "code",
   "execution_count": null,
   "metadata": {},
   "outputs": [],
   "source": []
  }
 ],
 "metadata": {
  "kernelspec": {
   "display_name": "Python 3",
   "language": "python",
   "name": "python3"
  },
  "language_info": {
   "codemirror_mode": {
    "name": "ipython",
    "version": 3
   },
   "file_extension": ".py",
   "mimetype": "text/x-python",
   "name": "python",
   "nbconvert_exporter": "python",
   "pygments_lexer": "ipython3",
   "version": "3.6.4"
  }
 },
 "nbformat": 4,
 "nbformat_minor": 2
}
