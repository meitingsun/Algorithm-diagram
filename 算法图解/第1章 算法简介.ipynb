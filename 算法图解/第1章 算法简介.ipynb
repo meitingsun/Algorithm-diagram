{
 "cells": [
  {
   "cell_type": "markdown",
   "metadata": {},
   "source": [
    "## 1.1  二分法"
   ]
  },
  {
   "cell_type": "markdown",
   "metadata": {},
   "source": [
    "二分查找：也称折半查找。折半查找要求线性表必须采用顺序存续结构，而且表中元素按关键字有序排列。如果要查找的元素包含在列表中，二分查找返回其位置；否则返回null"
   ]
  },
  {
   "cell_type": "markdown",
   "metadata": {},
   "source": [
    "查找过程：首先，假设表中元素是按升序排列，将表中间位置记录的关键字与查找关键字比较，如果两者相等，则查找成功；否则利用中间位置记录将表分成前、后两个子表，如果中间位置记录的关键字大于查找关键字，则进一步查找前一子表，否则进一步查找后一子表。重复以上过程，直到找到满足条件的记录，使查找成功，或直到子表不存在为止，此时查找不成功。"
   ]
  },
  {
   "cell_type": "markdown",
   "metadata": {},
   "source": [
    "一般而言，对于包含n个元素的列表，用二分查找最多需要log2（n）步，简单查找最多需要n步"
   ]
  },
  {
   "cell_type": "markdown",
   "metadata": {},
   "source": [
    "##### 对数是幂运算的逆运算\n",
    "插播：log10（100）相当于“将多少个10相乘的结果为100”，答案是两个：10*10=100，因此1og10（100）=2"
   ]
  },
  {
   "cell_type": "markdown",
   "metadata": {},
   "source": [
    "##### 二分查找：查找特定元素所在的位置"
   ]
  },
  {
   "cell_type": "code",
   "execution_count": 32,
   "metadata": {},
   "outputs": [],
   "source": [
    "#binary_search接受一个有序数组和一个元素。如果指定元素包含在数组中，这个函数将返回其位置\n",
    "def binary_search(list,item):  \n",
    "    low=0\n",
    "    high=len(list)-1 # low 和 high 用于跟踪要在其中查找的列表部分\n",
    "    \n",
    "    while low<=high: # 只要范围没有缩小到只包含一个元素\n",
    "        mid=int((low+high)/2)  # 就检查中间的元素\n",
    "        guess=list[mid]\n",
    "        if guess==item: # 找到了元素\n",
    "            return mid\n",
    "        if guess>item: #猜的数字大了\n",
    "            high=mid-1\n",
    "        else: # 猜的数字小了\n",
    "            low=mid+1 \n",
    "    return None  # 没有指定的元素"
   ]
  },
  {
   "cell_type": "code",
   "execution_count": 33,
   "metadata": {},
   "outputs": [
    {
     "name": "stdout",
     "output_type": "stream",
     "text": [
      "4\n"
     ]
    }
   ],
   "source": [
    "list=[1,3,5,6,8,9,10]\n",
    "print (binary_search(list,8))"
   ]
  },
  {
   "cell_type": "code",
   "execution_count": 34,
   "metadata": {},
   "outputs": [
    {
     "name": "stdout",
     "output_type": "stream",
     "text": [
      "5\n"
     ]
    }
   ],
   "source": [
    "print(binary_search(list,9))"
   ]
  },
  {
   "cell_type": "code",
   "execution_count": 35,
   "metadata": {},
   "outputs": [
    {
     "name": "stdout",
     "output_type": "stream",
     "text": [
      "None\n"
     ]
    }
   ],
   "source": [
    "print(binary_search(my_list,-1))"
   ]
  },
  {
   "cell_type": "markdown",
   "metadata": {},
   "source": [
    "插播:python取整\n",
    "    \n",
    "    int（）：向下取整 int(3.35)   内建函数\n",
    "    \n",
    "    round（）：四舍五入 round(3.45)  内建函数\n",
    "    \n",
    "    ceil（）：向上取整  import math   math.ceil(3.75)\n",
    "    \n",
    "    modf():分别取整数部分和小数部分  import math   math.modf(2.344)"
   ]
  },
  {
   "cell_type": "markdown",
   "metadata": {},
   "source": [
    "#### 1.1.2 运行时间"
   ]
  },
  {
   "cell_type": "markdown",
   "metadata": {},
   "source": [
    "简单查找：最多需要猜测的次数与列表长度相同，称为线性时间（linear time）---O(n)\n",
    "\n",
    "二分查找：对数时间（log时间）---O（logn）"
   ]
  },
  {
   "cell_type": "markdown",
   "metadata": {},
   "source": [
    "log（）指的是log2（）"
   ]
  },
  {
   "cell_type": "markdown",
   "metadata": {},
   "source": [
    "#### 大O表示法：能够比较操作数，它指出来算法运行时间的增速。表示法:O（n），n为操作数"
   ]
  },
  {
   "cell_type": "markdown",
   "metadata": {},
   "source": [
    "#### 大O表示法指出了最糟糕情况下的运行时间"
   ]
  },
  {
   "cell_type": "markdown",
   "metadata": {},
   "source": [
    "一些常见的大O运行时间：从快到慢的顺序\n",
    "\n",
    "O(log n):对数时间，这样的算法包括二分查找\n",
    "\n",
    "O(n):线性时间，这样的算法包括简单查找\n",
    "\n",
    "O(n* log n):快速排序\n",
    "\n",
    "O(n^2):选择排序\n",
    "\n",
    "O(n!):阶乘时间（旅行商问题：5个城市有120中不同的排列方式）"
   ]
  }
 ],
 "metadata": {
  "kernelspec": {
   "display_name": "Python 3",
   "language": "python",
   "name": "python3"
  },
  "language_info": {
   "codemirror_mode": {
    "name": "ipython",
    "version": 3
   },
   "file_extension": ".py",
   "mimetype": "text/x-python",
   "name": "python",
   "nbconvert_exporter": "python",
   "pygments_lexer": "ipython3",
   "version": "3.6.4"
  }
 },
 "nbformat": 4,
 "nbformat_minor": 2
}
